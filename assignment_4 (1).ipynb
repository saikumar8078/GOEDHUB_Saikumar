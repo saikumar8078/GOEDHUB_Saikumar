{
  "nbformat": 4,
  "nbformat_minor": 0,
  "metadata": {
    "colab": {
      "name": "assignment 4.ipynb",
      "provenance": [],
      "collapsed_sections": []
    },
    "kernelspec": {
      "name": "python3",
      "display_name": "Python 3"
    },
    "language_info": {
      "name": "python"
    }
  },
  "cells": [
    {
      "cell_type": "markdown",
      "metadata": {
        "id": "kE-XoPzwAiNo"
      },
      "source": [
        ""
      ]
    },
    {
      "cell_type": "markdown",
      "metadata": {
        "id": "ULDsQnl-Aov_"
      },
      "source": [
        "**Q1** Import the numpy package under the name np and Print the numpy version and the configuration "
      ]
    },
    {
      "cell_type": "code",
      "metadata": {
        "id": "u8WWkqZuAr98",
        "colab": {
          "base_uri": "https://localhost:8080/",
          "height": 35
        },
        "outputId": "bd642384-1d52-4920-f7f5-d994e72f2b72"
      },
      "source": [
        "import numpy as np\n",
        "np.version.version"
      ],
      "execution_count": null,
      "outputs": [
        {
          "output_type": "execute_result",
          "data": {
            "application/vnd.google.colaboratory.intrinsic+json": {
              "type": "string"
            },
            "text/plain": [
              "'1.19.5'"
            ]
          },
          "metadata": {
            "tags": []
          },
          "execution_count": 1
        }
      ]
    },
    {
      "cell_type": "markdown",
      "metadata": {
        "id": "Ukz-fpFr3iOK"
      },
      "source": [
        "2.Create a null vector of size 10"
      ]
    },
    {
      "cell_type": "markdown",
      "metadata": {
        "id": "OAALdXAf3bIT"
      },
      "source": [
        ""
      ]
    },
    {
      "cell_type": "code",
      "metadata": {
        "colab": {
          "base_uri": "https://localhost:8080/"
        },
        "id": "N8c4yzdW3gtH",
        "outputId": "9ff3a13d-89df-43ab-b09d-e27d366e71e9"
      },
      "source": [
        "np.zeros(10)"
      ],
      "execution_count": null,
      "outputs": [
        {
          "output_type": "execute_result",
          "data": {
            "text/plain": [
              "array([0., 0., 0., 0., 0., 0., 0., 0., 0., 0.])"
            ]
          },
          "metadata": {
            "tags": []
          },
          "execution_count": 3
        }
      ]
    },
    {
      "cell_type": "markdown",
      "metadata": {
        "id": "PV2hW5hh4Bab"
      },
      "source": [
        "3.Create Simple 1-D array and check type and check data types in array"
      ]
    },
    {
      "cell_type": "code",
      "metadata": {
        "colab": {
          "base_uri": "https://localhost:8080/"
        },
        "id": "PppVL5Fr4E7w",
        "outputId": "8d1af6f7-2d4c-48cc-e53d-087f9a55777e"
      },
      "source": [
        "arr = np.arange(0,7)\n",
        "arr"
      ],
      "execution_count": null,
      "outputs": [
        {
          "output_type": "execute_result",
          "data": {
            "text/plain": [
              "array([0, 1, 2, 3, 4, 5, 6])"
            ]
          },
          "metadata": {
            "tags": []
          },
          "execution_count": 7
        }
      ]
    },
    {
      "cell_type": "code",
      "metadata": {
        "colab": {
          "base_uri": "https://localhost:8080/"
        },
        "id": "bPoMIfnQ4c_O",
        "outputId": "03fd3458-3b52-4d03-f020-e7e299f7763a"
      },
      "source": [
        "type(arr)"
      ],
      "execution_count": null,
      "outputs": [
        {
          "output_type": "execute_result",
          "data": {
            "text/plain": [
              "numpy.ndarray"
            ]
          },
          "metadata": {
            "tags": []
          },
          "execution_count": 8
        }
      ]
    },
    {
      "cell_type": "code",
      "metadata": {
        "colab": {
          "base_uri": "https://localhost:8080/"
        },
        "id": "DWnaZcLG4RH9",
        "outputId": "49ea5e73-d27e-47f4-e008-efb88e1181be"
      },
      "source": [
        "arr.dtype"
      ],
      "execution_count": null,
      "outputs": [
        {
          "output_type": "execute_result",
          "data": {
            "text/plain": [
              "dtype('int64')"
            ]
          },
          "metadata": {
            "tags": []
          },
          "execution_count": 9
        }
      ]
    },
    {
      "cell_type": "markdown",
      "metadata": {
        "id": "TeAI1j-24oQw"
      },
      "source": [
        "4.How to find number of dimensions, bytes per element and bytes of memory used?"
      ]
    },
    {
      "cell_type": "code",
      "metadata": {
        "colab": {
          "base_uri": "https://localhost:8080/"
        },
        "id": "dhpj5gVv4rn1",
        "outputId": "e5eec926-952b-4ce9-bf13-501d4dcb1a2a"
      },
      "source": [
        "print(f'No of Dimension of the array : {arr.ndim}')\n",
        "print(f'Size of the element in the array : {arr.itemsize}')\n",
        "print(f'Total Size of the array : {arr.nbytes}')"
      ],
      "execution_count": null,
      "outputs": [
        {
          "output_type": "stream",
          "text": [
            "No of Dimension of the array : 1\n",
            "Size of the element in the array : 8\n",
            "Total Size of the array : 56\n"
          ],
          "name": "stdout"
        }
      ]
    },
    {
      "cell_type": "markdown",
      "metadata": {
        "id": "0myIgrHP6q_1"
      },
      "source": [
        "5) Create a null vector of size 10 but the fifth value which is 1"
      ]
    },
    {
      "cell_type": "markdown",
      "metadata": {
        "id": "_-ugBXdC6MeW"
      },
      "source": [
        ""
      ]
    },
    {
      "cell_type": "code",
      "metadata": {
        "colab": {
          "base_uri": "https://localhost:8080/"
        },
        "id": "wVk0KjjA5wyd",
        "outputId": "cb2dadd3-98ec-4d4c-9758-84a557af4d8f"
      },
      "source": [
        "null_arr = np.zeros(10)\n",
        "null_arr[4] = 1\n",
        "print(null_arr)"
      ],
      "execution_count": null,
      "outputs": [
        {
          "output_type": "stream",
          "text": [
            "[0. 0. 0. 0. 1. 0. 0. 0. 0. 0.]\n"
          ],
          "name": "stdout"
        }
      ]
    },
    {
      "cell_type": "markdown",
      "metadata": {
        "id": "17uAuQ6166Vj"
      },
      "source": [
        "6) Create a vector with values ranging from 10 to 49"
      ]
    },
    {
      "cell_type": "code",
      "metadata": {
        "colab": {
          "base_uri": "https://localhost:8080/"
        },
        "id": "_Wmb2k5O64VS",
        "outputId": "6b9a6668-caa6-4abf-93e7-32b652eda3b6"
      },
      "source": [
        "np.arange(10,50)\n"
      ],
      "execution_count": null,
      "outputs": [
        {
          "output_type": "execute_result",
          "data": {
            "text/plain": [
              "array([10, 11, 12, 13, 14, 15, 16, 17, 18, 19, 20, 21, 22, 23, 24, 25, 26,\n",
              "       27, 28, 29, 30, 31, 32, 33, 34, 35, 36, 37, 38, 39, 40, 41, 42, 43,\n",
              "       44, 45, 46, 47, 48, 49])"
            ]
          },
          "metadata": {
            "tags": []
          },
          "execution_count": 22
        }
      ]
    },
    {
      "cell_type": "code",
      "metadata": {
        "id": "Vv1cw4Es6__K"
      },
      "source": [
        "7) Reverse a vector (first element becomes last)"
      ],
      "execution_count": null,
      "outputs": []
    },
    {
      "cell_type": "code",
      "metadata": {
        "colab": {
          "base_uri": "https://localhost:8080/"
        },
        "id": "7-pbIBP67Eje",
        "outputId": "d2b362b6-94ab-4929-95b7-1128e555fe08"
      },
      "source": [
        "print(f'before reversing: {arr}')\n",
        "print(f'after reversing : {arr[::-1]}')"
      ],
      "execution_count": null,
      "outputs": [
        {
          "output_type": "stream",
          "text": [
            "before reversing: [0 1 2 3 4 5 6]\n",
            "after reversing : [6 5 4 3 2 1 0]\n"
          ],
          "name": "stdout"
        }
      ]
    },
    {
      "cell_type": "code",
      "metadata": {
        "id": "wtaKcucB7vDR"
      },
      "source": [
        "8) Create a 3x3 matrix with values ranging from 0 to 8"
      ],
      "execution_count": null,
      "outputs": []
    },
    {
      "cell_type": "code",
      "metadata": {
        "colab": {
          "base_uri": "https://localhost:8080/"
        },
        "id": "ypUX_ZoE7ynw",
        "outputId": "22c8d425-c09c-4811-df24-fc02b6e34f28"
      },
      "source": [
        "matrix = np.arange(0,9).reshape((3,3))\n",
        "matrix"
      ],
      "execution_count": null,
      "outputs": [
        {
          "output_type": "execute_result",
          "data": {
            "text/plain": [
              "array([[0, 1, 2],\n",
              "       [3, 4, 5],\n",
              "       [6, 7, 8]])"
            ]
          },
          "metadata": {
            "tags": []
          },
          "execution_count": 25
        }
      ]
    },
    {
      "cell_type": "code",
      "metadata": {
        "colab": {
          "base_uri": "https://localhost:8080/"
        },
        "id": "-DdyRnBg7_P3",
        "outputId": "140967fd-1b9d-46d9-897e-e5796f0d75f6"
      },
      "source": [
        "arr1 = [1,2,0,0,4,0]\n",
        "arr1\n"
      ],
      "execution_count": null,
      "outputs": [
        {
          "output_type": "execute_result",
          "data": {
            "text/plain": [
              "[1, 2, 0, 0, 4, 0]"
            ]
          },
          "metadata": {
            "tags": []
          },
          "execution_count": 26
        }
      ]
    },
    {
      "cell_type": "code",
      "metadata": {
        "colab": {
          "base_uri": "https://localhost:8080/"
        },
        "id": "9QzZuiji8KeH",
        "outputId": "92df698b-03a3-454e-a841-e55bb449ff78"
      },
      "source": [
        "np.nonzero(arr1)"
      ],
      "execution_count": null,
      "outputs": [
        {
          "output_type": "execute_result",
          "data": {
            "text/plain": [
              "(array([0, 1, 4]),)"
            ]
          },
          "metadata": {
            "tags": []
          },
          "execution_count": 27
        }
      ]
    },
    {
      "cell_type": "code",
      "metadata": {
        "id": "DLkxn5hA8Phu"
      },
      "source": [
        "10) Create a 3x3 identity matrix"
      ],
      "execution_count": null,
      "outputs": []
    },
    {
      "cell_type": "code",
      "metadata": {
        "colab": {
          "base_uri": "https://localhost:8080/"
        },
        "id": "kN_tPPOx8WQn",
        "outputId": "1767b6b3-fee9-4d0e-f267-a2e7dcd3217a"
      },
      "source": [
        "np.eye(3,3)"
      ],
      "execution_count": null,
      "outputs": [
        {
          "output_type": "execute_result",
          "data": {
            "text/plain": [
              "array([[1., 0., 0.],\n",
              "       [0., 1., 0.],\n",
              "       [0., 0., 1.]])"
            ]
          },
          "metadata": {
            "tags": []
          },
          "execution_count": 28
        }
      ]
    },
    {
      "cell_type": "code",
      "metadata": {
        "colab": {
          "base_uri": "https://localhost:8080/"
        },
        "id": "11GSbANX8ZJO",
        "outputId": "0fc903a7-80b4-411d-bd4c-2a1e11dbe379"
      },
      "source": [
        "np.identity(3)"
      ],
      "execution_count": null,
      "outputs": [
        {
          "output_type": "execute_result",
          "data": {
            "text/plain": [
              "array([[1., 0., 0.],\n",
              "       [0., 1., 0.],\n",
              "       [0., 0., 1.]])"
            ]
          },
          "metadata": {
            "tags": []
          },
          "execution_count": 29
        }
      ]
    },
    {
      "cell_type": "code",
      "metadata": {
        "id": "3D2ug9rI8fCe"
      },
      "source": [
        "11) Create a 3x3x3 array with random values"
      ],
      "execution_count": null,
      "outputs": []
    },
    {
      "cell_type": "code",
      "metadata": {
        "colab": {
          "base_uri": "https://localhost:8080/"
        },
        "id": "q28Rikre8jwY",
        "outputId": "0a62a684-c810-4674-cfc6-f501fb908e46"
      },
      "source": [
        "np.random.random((3,3,3))"
      ],
      "execution_count": null,
      "outputs": [
        {
          "output_type": "execute_result",
          "data": {
            "text/plain": [
              "array([[[0.13458205, 0.93183481, 0.43871203],\n",
              "        [0.57112797, 0.72479216, 0.59883513],\n",
              "        [0.98335182, 0.16584645, 0.16673978]],\n",
              "\n",
              "       [[0.65043795, 0.30342102, 0.97633225],\n",
              "        [0.50152324, 0.51456821, 0.2836293 ],\n",
              "        [0.45482988, 0.42813014, 0.87966258]],\n",
              "\n",
              "       [[0.31616395, 0.1591692 , 0.93220233],\n",
              "        [0.25076563, 0.023682  , 0.67222602],\n",
              "        [0.93898113, 0.19822007, 0.15318595]]])"
            ]
          },
          "metadata": {
            "tags": []
          },
          "execution_count": 30
        }
      ]
    },
    {
      "cell_type": "markdown",
      "metadata": {
        "id": "i5n4rZka9LQc"
      },
      "source": [
        "12) Create a 10x10 array with random values and find the minimum and maximum values\n"
      ]
    },
    {
      "cell_type": "code",
      "metadata": {
        "colab": {
          "base_uri": "https://localhost:8080/"
        },
        "id": "rYw8tMcb8xYd",
        "outputId": "a2d9a55b-d50a-4789-815d-2acc28c189b1"
      },
      "source": [
        "arr2 = np.random.random((3,3,3))\n",
        "print(f'array: \\n{arr2}')\n",
        "print(f'Max value in array : \\n {np.max(arr2)}')\n",
        "print(f'Min value in array : \\n {np.min(arr2)}')"
      ],
      "execution_count": null,
      "outputs": [
        {
          "output_type": "stream",
          "text": [
            "array: \n",
            "[[[0.93003662 0.52783979 0.21688534]\n",
            "  [0.65904756 0.6470456  0.28823147]\n",
            "  [0.53792765 0.33825037 0.31650647]]\n",
            "\n",
            " [[0.70465913 0.10031179 0.75025692]\n",
            "  [0.44042377 0.75578587 0.54294015]\n",
            "  [0.71147147 0.04714615 0.01199767]]\n",
            "\n",
            " [[0.76608603 0.87335895 0.70713046]\n",
            "  [0.49734402 0.21902101 0.69659963]\n",
            "  [0.09823971 0.97013487 0.22972779]]]\n",
            "Max value in array : \n",
            " 0.9701348694670148\n",
            "Min value in array : \n",
            " 0.011997671299736501\n"
          ],
          "name": "stdout"
        }
      ]
    },
    {
      "cell_type": "markdown",
      "metadata": {
        "id": "tslCi_0c9vq4"
      },
      "source": [
        "13) Create a random vector of size 30 and find the mean value"
      ]
    },
    {
      "cell_type": "code",
      "metadata": {
        "colab": {
          "base_uri": "https://localhost:8080/"
        },
        "id": "tcIM301U91DS",
        "outputId": "8d8550b2-7129-4762-b52e-c96457f21400"
      },
      "source": [
        "print(f'array :{arr2}')\n",
        "print(f'mean value o the array:  {np.mean(arr2)} ')"
      ],
      "execution_count": null,
      "outputs": [
        {
          "output_type": "stream",
          "text": [
            "array :[[[0.93003662 0.52783979 0.21688534]\n",
            "  [0.65904756 0.6470456  0.28823147]\n",
            "  [0.53792765 0.33825037 0.31650647]]\n",
            "\n",
            " [[0.70465913 0.10031179 0.75025692]\n",
            "  [0.44042377 0.75578587 0.54294015]\n",
            "  [0.71147147 0.04714615 0.01199767]]\n",
            "\n",
            " [[0.76608603 0.87335895 0.70713046]\n",
            "  [0.49734402 0.21902101 0.69659963]\n",
            "  [0.09823971 0.97013487 0.22972779]]]\n",
            "mean value o the array:  0.5031261577082042 \n"
          ],
          "name": "stdout"
        }
      ]
    },
    {
      "cell_type": "code",
      "metadata": {
        "id": "B84iNHbv-NVc"
      },
      "source": [
        "14) Create a 2d array with 1 on the border and 0 inside"
      ],
      "execution_count": null,
      "outputs": []
    },
    {
      "cell_type": "code",
      "metadata": {
        "colab": {
          "base_uri": "https://localhost:8080/"
        },
        "id": "vKUehnq--KJa",
        "outputId": "85dbc725-d797-4472-e85d-246148a56604"
      },
      "source": [
        "arr4 = np.ones((5,5))\n",
        "arr4[1:4,1:4] = 0\n",
        "arr4"
      ],
      "execution_count": null,
      "outputs": [
        {
          "output_type": "execute_result",
          "data": {
            "text/plain": [
              "array([[1., 1., 1., 1., 1.],\n",
              "       [1., 0., 0., 0., 1.],\n",
              "       [1., 0., 0., 0., 1.],\n",
              "       [1., 0., 0., 0., 1.],\n",
              "       [1., 1., 1., 1., 1.]])"
            ]
          },
          "metadata": {
            "tags": []
          },
          "execution_count": 36
        }
      ]
    },
    {
      "cell_type": "code",
      "metadata": {
        "id": "kOF3i2lM-Khg"
      },
      "source": [
        "15 ) How to add a border (filled with 0's) around an existing array?"
      ],
      "execution_count": null,
      "outputs": []
    },
    {
      "cell_type": "code",
      "metadata": {
        "colab": {
          "base_uri": "https://localhost:8080/"
        },
        "id": "ehGpIWt7-3gz",
        "outputId": "1f765bf1-01af-47d0-a34d-c67cdea846c1"
      },
      "source": [
        "arr5 = np.ones((5,5))\n",
        "arr5[:1,:] = 0\n",
        "arr5[4:,:] = 0\n",
        "arr5[:,:1] = 0\n",
        "arr5[:,4:] = 0\n",
        "arr5\n"
      ],
      "execution_count": null,
      "outputs": [
        {
          "output_type": "execute_result",
          "data": {
            "text/plain": [
              "array([[0., 0., 0., 0., 0.],\n",
              "       [0., 1., 1., 1., 0.],\n",
              "       [0., 1., 1., 1., 0.],\n",
              "       [0., 1., 1., 1., 0.],\n",
              "       [0., 0., 0., 0., 0.]])"
            ]
          },
          "metadata": {
            "tags": []
          },
          "execution_count": 37
        }
      ]
    },
    {
      "cell_type": "code",
      "metadata": {
        "id": "Vj3kmIF9_Xyo"
      },
      "source": [
        "16) How to Accessing/Changing specific elements, rows, columns, etc in Numpy array?\n",
        "Example -\n",
        "[[ 1 2 3 4 5 6 7] [ 8 9 10 11 12 13 14]]\n",
        "Get 13, get first row only, get 3rd column only, get [2, 4, 6], replace 13 by 20"
      ],
      "execution_count": null,
      "outputs": []
    },
    {
      "cell_type": "code",
      "metadata": {
        "colab": {
          "base_uri": "https://localhost:8080/"
        },
        "id": "seVNwd9__cHb",
        "outputId": "f8092750-45a0-4845-8529-9c8f1f606cca"
      },
      "source": [
        "arr6 = np.arange(1,15).reshape(2,7)\n",
        "arr6"
      ],
      "execution_count": null,
      "outputs": [
        {
          "output_type": "execute_result",
          "data": {
            "text/plain": [
              "array([[ 1,  2,  3,  4,  5,  6,  7],\n",
              "       [ 8,  9, 10, 11, 12, 13, 14]])"
            ]
          },
          "metadata": {
            "tags": []
          },
          "execution_count": 38
        }
      ]
    },
    {
      "cell_type": "code",
      "metadata": {
        "colab": {
          "base_uri": "https://localhost:8080/"
        },
        "id": "SNwBBwk7_ez_",
        "outputId": "aa843a9e-21e7-4762-8c12-61becee91222"
      },
      "source": [
        "arr6[1,-2]"
      ],
      "execution_count": null,
      "outputs": [
        {
          "output_type": "execute_result",
          "data": {
            "text/plain": [
              "13"
            ]
          },
          "metadata": {
            "tags": []
          },
          "execution_count": 41
        }
      ]
    },
    {
      "cell_type": "code",
      "metadata": {
        "colab": {
          "base_uri": "https://localhost:8080/"
        },
        "id": "kvMoHtKW_i1N",
        "outputId": "3a2378c9-8107-47a7-9ca3-1754f7a67d67"
      },
      "source": [
        "arr6[0,:]"
      ],
      "execution_count": null,
      "outputs": [
        {
          "output_type": "execute_result",
          "data": {
            "text/plain": [
              "array([1, 2, 3, 4, 5, 6, 7])"
            ]
          },
          "metadata": {
            "tags": []
          },
          "execution_count": 43
        }
      ]
    },
    {
      "cell_type": "code",
      "metadata": {
        "colab": {
          "base_uri": "https://localhost:8080/"
        },
        "id": "aFuwt0Gx_lT4",
        "outputId": "b085bcf6-3d75-4628-f882-359016c21ccb"
      },
      "source": [
        "arr6[:,2]"
      ],
      "execution_count": null,
      "outputs": [
        {
          "output_type": "execute_result",
          "data": {
            "text/plain": [
              "array([ 3, 10])"
            ]
          },
          "metadata": {
            "tags": []
          },
          "execution_count": 44
        }
      ]
    },
    {
      "cell_type": "code",
      "metadata": {
        "colab": {
          "base_uri": "https://localhost:8080/"
        },
        "id": "isC1iM20AE0u",
        "outputId": "8b230bbb-a39a-4970-9603-ff18b43c0e81"
      },
      "source": [
        "arr6[0,1::2]"
      ],
      "execution_count": null,
      "outputs": [
        {
          "output_type": "execute_result",
          "data": {
            "text/plain": [
              "array([2, 4, 6])"
            ]
          },
          "metadata": {
            "tags": []
          },
          "execution_count": 46
        }
      ]
    },
    {
      "cell_type": "code",
      "metadata": {
        "colab": {
          "base_uri": "https://localhost:8080/"
        },
        "id": "80ShmkdTAIJO",
        "outputId": "d0b52fd0-d1be-4c29-fcf7-9ee3dc5392b4"
      },
      "source": [
        "print(f'Before changing :\\n {arr1}')\n",
        "arr6[1,-2] = 20\n",
        "print(f'\\nAfter changiing :\\n {arr1}')"
      ],
      "execution_count": null,
      "outputs": [
        {
          "output_type": "stream",
          "text": [
            "Before changing :\n",
            " [[1. 1. 1. 1. 1.]\n",
            " [1. 0. 0. 0. 1.]\n",
            " [1. 0. 0. 0. 1.]\n",
            " [1. 0. 0. 0. 1.]\n",
            " [1. 1. 1. 1. 1.]]\n",
            "\n",
            "After changiing :\n",
            " [[1. 1. 1. 1. 1.]\n",
            " [1. 0. 0. 0. 1.]\n",
            " [1. 0. 0. 0. 1.]\n",
            " [1. 0. 0. 0. 1.]\n",
            " [1. 1. 1. 1. 1.]]\n"
          ],
          "name": "stdout"
        }
      ]
    },
    {
      "cell_type": "code",
      "metadata": {
        "id": "lwwLeTAdERuh"
      },
      "source": [
        "17) How to Convert a 1D array to a 2D array with 2 rows\n"
      ],
      "execution_count": null,
      "outputs": []
    },
    {
      "cell_type": "code",
      "metadata": {
        "id": "oFlEfA-OAWTt",
        "colab": {
          "base_uri": "https://localhost:8080/"
        },
        "outputId": "3f8db34d-3f0b-438c-d786-efafb8a506a8"
      },
      "source": [
        "arr8 = np.arange(0,9)\n",
        "arr8"
      ],
      "execution_count": null,
      "outputs": [
        {
          "output_type": "execute_result",
          "data": {
            "text/plain": [
              "array([0, 1, 2, 3, 4, 5, 6, 7, 8])"
            ]
          },
          "metadata": {
            "tags": []
          },
          "execution_count": 51
        }
      ]
    },
    {
      "cell_type": "code",
      "metadata": {
        "id": "NvMPmTboBE4V",
        "colab": {
          "base_uri": "https://localhost:8080/"
        },
        "outputId": "02d252a5-c519-4a44-e6d4-b90db07337d5"
      },
      "source": [
        "print(f'no of dimensions of array : {arr8.ndim}')"
      ],
      "execution_count": null,
      "outputs": [
        {
          "output_type": "stream",
          "text": [
            "no of dimensions of array : 1\n"
          ],
          "name": "stdout"
        }
      ]
    },
    {
      "cell_type": "code",
      "metadata": {
        "colab": {
          "base_uri": "https://localhost:8080/"
        },
        "id": "5r1Bsj4NEhlk",
        "outputId": "dfc4d720-acd6-4ce7-aa9d-dcbe1f1f30fa"
      },
      "source": [
        "arr8 = arr8.reshape((3,3))\n",
        "arr8"
      ],
      "execution_count": null,
      "outputs": [
        {
          "output_type": "execute_result",
          "data": {
            "text/plain": [
              "array([[0, 1, 2],\n",
              "       [3, 4, 5],\n",
              "       [6, 7, 8]])"
            ]
          },
          "metadata": {
            "tags": []
          },
          "execution_count": 56
        }
      ]
    },
    {
      "cell_type": "code",
      "metadata": {
        "colab": {
          "base_uri": "https://localhost:8080/"
        },
        "id": "OhxgciQ9EqBT",
        "outputId": "764f3d68-fcf6-4b7a-951f-d8326af4de13"
      },
      "source": [
        "print(f'no of dimensions of array : {arr8.ndim}')"
      ],
      "execution_count": null,
      "outputs": [
        {
          "output_type": "stream",
          "text": [
            "no of dimensions of array : 2\n"
          ],
          "name": "stdout"
        }
      ]
    },
    {
      "cell_type": "code",
      "metadata": {
        "id": "vSEd8914E14S"
      },
      "source": [
        "18) Create the following pattern without hardcoding. Use only numpy functions and the below\n",
        "input array a.\n",
        "Input:\n",
        "a = np.array([1,2,3])\n",
        "Desired Output:\n",
        "> array([1, 1, 1, 2, 2, 2, 3, 3, 3, 1, 2, 3, 1, 2, 3,\n",
        "1, 2, 3])"
      ],
      "execution_count": null,
      "outputs": []
    },
    {
      "cell_type": "code",
      "metadata": {
        "colab": {
          "base_uri": "https://localhost:8080/"
        },
        "id": "g0fZns64F6YT",
        "outputId": "1e3fb2cc-7cf8-45ee-8a1b-9e49f3936780"
      },
      "source": [
        "\n",
        "import numpy as np\n",
        "s = np.array([1,2,3])\n",
        "print(s)"
      ],
      "execution_count": 2,
      "outputs": [
        {
          "output_type": "stream",
          "text": [
            "[1 2 3]\n"
          ],
          "name": "stdout"
        }
      ]
    },
    {
      "cell_type": "code",
      "metadata": {
        "id": "gWSqtF2xGBNQ",
        "colab": {
          "base_uri": "https://localhost:8080/"
        },
        "outputId": "979bb363-2074-4836-af66-84351c38e6d4"
      },
      "source": [
        "import numpy as np\n",
        "a = np.append(np.repeat(s,3),np.tile(s,3))\n",
        "print(a)"
      ],
      "execution_count": 4,
      "outputs": [
        {
          "output_type": "stream",
          "text": [
            "[1 1 1 2 2 2 3 3 3 1 2 3 1 2 3 1 2 3]\n"
          ],
          "name": "stdout"
        }
      ]
    },
    {
      "cell_type": "code",
      "metadata": {
        "id": "gW_iQVmvfqpE"
      },
      "source": [
        "19) Write a program to show how Numpy taking less memory compared to Python List?"
      ],
      "execution_count": null,
      "outputs": []
    },
    {
      "cell_type": "code",
      "metadata": {
        "colab": {
          "base_uri": "https://localhost:8080/"
        },
        "id": "qkwiWdXbfsW0",
        "outputId": "424b3b58-34a5-474d-d324-6b159f7eee69"
      },
      "source": [
        "import sys\n",
        "list1 = range(1000)\n",
        "print(\"Size of each element of list in bytes: \",sys.getsizeof(list1))\n",
        "print(\"Size of the whole list in bytes: \",sys.getsizeof(list1)*len(list1))\n",
        "# declaring a Numpy array  1000 elements\n",
        "array = np.arange(1000)\n",
        "print(\"\\nSize of each element of the Numpy array in bytes: \",array.itemsize)\n",
        "print(\"Size of the whole Numpy array in bytes: \",array.size * array.itemsize)\n"
      ],
      "execution_count": 5,
      "outputs": [
        {
          "output_type": "stream",
          "text": [
            "Size of each element of list in bytes:  48\n",
            "Size of the whole list in bytes:  48000\n",
            "\n",
            "Size of each element of the Numpy array in bytes:  8\n",
            "Size of the whole Numpy array in bytes:  8000\n"
          ],
          "name": "stdout"
        }
      ]
    },
    {
      "cell_type": "code",
      "metadata": {
        "id": "qDoUSHuGgQD0"
      },
      "source": [
        "20) Write a program to show how Numpy taking less time compared to Python List?"
      ],
      "execution_count": null,
      "outputs": []
    },
    {
      "cell_type": "code",
      "metadata": {
        "colab": {
          "base_uri": "https://localhost:8080/"
        },
        "id": "NS-vD4C2gVEr",
        "outputId": "ad0026df-d90f-4d67-b944-127c4b088a05"
      },
      "source": [
        "import time\n",
        "size = 1000000\n",
        "list1 = range(size)\n",
        "list2 = range(size)\n",
        "array1 = np.arange(size)\n",
        "array2 = np.arange(size)\n",
        "\n",
        "initialTime = time.time()\n",
        "resultantList = [(a * b) for a, b in zip(list1, list2)]\n",
        "print(f\"Time taken by Lists to perform multiplication: {(time.time() - initialTime)} s\")\n",
        "initialTime = time.time()\n",
        "resultantArray = array1 * array2\n",
        "print(f\"\\nTime taken by NumPy Arrays to perform multiplication: {(time.time() - initialTime)} s\")"
      ],
      "execution_count": 6,
      "outputs": [
        {
          "output_type": "stream",
          "text": [
            "Time taken by Lists to perform multiplication: 0.12133455276489258 s\n",
            "\n",
            "Time taken by NumPy Arrays to perform multiplication: 0.0031652450561523438 s\n"
          ],
          "name": "stdout"
        }
      ]
    }
  ]
}